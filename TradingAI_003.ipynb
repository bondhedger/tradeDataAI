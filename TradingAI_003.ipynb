{
 "cells": [
  {
   "cell_type": "code",
   "execution_count": 43,
   "metadata": {},
   "outputs": [],
   "source": [
    "import pandas as pd\n",
    "from sklearn.model_selection import train_test_split\n",
    "from sklearn import ensemble\n",
    "from sklearn.metrics import mean_absolute_error\n",
    "from sklearn.externals import joblib"
   ]
  },
  {
   "cell_type": "code",
   "execution_count": 44,
   "metadata": {},
   "outputs": [
    {
     "data": {
      "text/html": [
       "<div>\n",
       "<style scoped>\n",
       "    .dataframe tbody tr th:only-of-type {\n",
       "        vertical-align: middle;\n",
       "    }\n",
       "\n",
       "    .dataframe tbody tr th {\n",
       "        vertical-align: top;\n",
       "    }\n",
       "\n",
       "    .dataframe thead th {\n",
       "        text-align: right;\n",
       "    }\n",
       "</style>\n",
       "<table border=\"1\" class=\"dataframe\">\n",
       "  <thead>\n",
       "    <tr style=\"text-align: right;\">\n",
       "      <th></th>\n",
       "      <th>Time</th>\n",
       "      <th>ESA Index</th>\n",
       "      <th>UXA Index</th>\n",
       "      <th>ECA Curncy</th>\n",
       "      <th>BPA Curncy</th>\n",
       "      <th>DXA Curncy</th>\n",
       "      <th>Z A Index</th>\n",
       "      <th>ED1 Comdty</th>\n",
       "      <th>UXYA Comdty</th>\n",
       "      <th>ERA Comdty</th>\n",
       "      <th>Weekday</th>\n",
       "      <th>SOLVE FOR</th>\n",
       "    </tr>\n",
       "  </thead>\n",
       "  <tbody>\n",
       "    <tr>\n",
       "      <th>0</th>\n",
       "      <td>8.50</td>\n",
       "      <td>-2.5</td>\n",
       "      <td>0.125</td>\n",
       "      <td>-0.00825</td>\n",
       "      <td>-0.47</td>\n",
       "      <td>0.468</td>\n",
       "      <td>20.5</td>\n",
       "      <td>-0.035</td>\n",
       "      <td>-1.281250</td>\n",
       "      <td>-0.005</td>\n",
       "      <td>3</td>\n",
       "      <td>-2.0</td>\n",
       "    </tr>\n",
       "    <tr>\n",
       "      <th>1</th>\n",
       "      <td>8.75</td>\n",
       "      <td>2.5</td>\n",
       "      <td>-0.025</td>\n",
       "      <td>-0.00835</td>\n",
       "      <td>-0.49</td>\n",
       "      <td>0.483</td>\n",
       "      <td>33.5</td>\n",
       "      <td>-0.030</td>\n",
       "      <td>-1.234375</td>\n",
       "      <td>-0.005</td>\n",
       "      <td>3</td>\n",
       "      <td>-7.0</td>\n",
       "    </tr>\n",
       "    <tr>\n",
       "      <th>2</th>\n",
       "      <td>9.00</td>\n",
       "      <td>-2.5</td>\n",
       "      <td>0.075</td>\n",
       "      <td>-0.00890</td>\n",
       "      <td>-0.61</td>\n",
       "      <td>0.528</td>\n",
       "      <td>23.5</td>\n",
       "      <td>-0.035</td>\n",
       "      <td>-1.187500</td>\n",
       "      <td>-0.005</td>\n",
       "      <td>3</td>\n",
       "      <td>-2.0</td>\n",
       "    </tr>\n",
       "    <tr>\n",
       "      <th>3</th>\n",
       "      <td>9.25</td>\n",
       "      <td>-5.0</td>\n",
       "      <td>0.175</td>\n",
       "      <td>-0.00840</td>\n",
       "      <td>-0.55</td>\n",
       "      <td>0.503</td>\n",
       "      <td>24.0</td>\n",
       "      <td>-0.035</td>\n",
       "      <td>-1.156250</td>\n",
       "      <td>-0.005</td>\n",
       "      <td>3</td>\n",
       "      <td>0.5</td>\n",
       "    </tr>\n",
       "    <tr>\n",
       "      <th>4</th>\n",
       "      <td>9.50</td>\n",
       "      <td>1.5</td>\n",
       "      <td>0.025</td>\n",
       "      <td>-0.00895</td>\n",
       "      <td>-0.57</td>\n",
       "      <td>0.543</td>\n",
       "      <td>31.5</td>\n",
       "      <td>-0.035</td>\n",
       "      <td>-1.281250</td>\n",
       "      <td>-0.005</td>\n",
       "      <td>3</td>\n",
       "      <td>-6.0</td>\n",
       "    </tr>\n",
       "  </tbody>\n",
       "</table>\n",
       "</div>"
      ],
      "text/plain": [
       "   Time  ESA Index  UXA Index  ECA Curncy  BPA Curncy  DXA Curncy  Z A Index  \\\n",
       "0  8.50       -2.5      0.125    -0.00825       -0.47       0.468       20.5   \n",
       "1  8.75        2.5     -0.025    -0.00835       -0.49       0.483       33.5   \n",
       "2  9.00       -2.5      0.075    -0.00890       -0.61       0.528       23.5   \n",
       "3  9.25       -5.0      0.175    -0.00840       -0.55       0.503       24.0   \n",
       "4  9.50        1.5      0.025    -0.00895       -0.57       0.543       31.5   \n",
       "\n",
       "   ED1 Comdty  UXYA Comdty  ERA Comdty  Weekday  SOLVE FOR  \n",
       "0      -0.035    -1.281250      -0.005        3       -2.0  \n",
       "1      -0.030    -1.234375      -0.005        3       -7.0  \n",
       "2      -0.035    -1.187500      -0.005        3       -2.0  \n",
       "3      -0.035    -1.156250      -0.005        3        0.5  \n",
       "4      -0.035    -1.281250      -0.005        3       -6.0  "
      ]
     },
     "execution_count": 44,
     "metadata": {},
     "output_type": "execute_result"
    }
   ],
   "source": [
    "# read in data\n",
    "df = open(r'C:\\Users\\bondh\\TradeDataAI\\TD4_USD_csv.csv')\n",
    "df = pd.read_csv(r'C:\\Users\\bondh\\TradeDataAI\\TD4_USD_csv.csv',skiprows=0)\n",
    "df.head()"
   ]
  },
  {
   "cell_type": "code",
   "execution_count": 45,
   "metadata": {},
   "outputs": [],
   "source": [
    "# read in headers-- I don't know how to do this other than using the 'one hot encoding' approach and setting cols to {}\n",
    "features_df = pd.get_dummies(df,columns=[])"
   ]
  },
  {
   "cell_type": "code",
   "execution_count": 46,
   "metadata": {},
   "outputs": [],
   "source": [
    "# remove the answer from the data set\n",
    "del features_df['SOLVE FOR']"
   ]
  },
  {
   "cell_type": "code",
   "execution_count": 47,
   "metadata": {},
   "outputs": [
    {
     "name": "stderr",
     "output_type": "stream",
     "text": [
      "C:\\Users\\bondh\\Anaconda3\\lib\\site-packages\\ipykernel_launcher.py:2: FutureWarning: Method .as_matrix will be removed in a future version. Use .values instead.\n",
      "  \n",
      "C:\\Users\\bondh\\Anaconda3\\lib\\site-packages\\ipykernel_launcher.py:3: FutureWarning: Method .as_matrix will be removed in a future version. Use .values instead.\n",
      "  This is separate from the ipykernel package so we can avoid doing imports until\n"
     ]
    }
   ],
   "source": [
    "# create X and y arrays-- note there's some issue with deprecating .as_matrix() to .values()\n",
    "X = features_df.as_matrix()\n",
    "y = df['SOLVE FOR'].as_matrix()"
   ]
  },
  {
   "cell_type": "code",
   "execution_count": 48,
   "metadata": {},
   "outputs": [],
   "source": [
    "# split data into 70% training data and 30% test data\n",
    "X_train, X_test, y_train, y_test = train_test_split(X, y, test_size=0.3)"
   ]
  },
  {
   "cell_type": "code",
   "execution_count": 49,
   "metadata": {},
   "outputs": [
    {
     "data": {
      "text/plain": [
       "['trained_trade_data.pkl']"
      ]
     },
     "execution_count": 49,
     "metadata": {},
     "output_type": "execute_result"
    }
   ],
   "source": [
    "#fit regression model\n",
    "model = ensemble.GradientBoostingRegressor(\n",
    "    n_estimators=2000,\n",
    "    learning_rate=0.1,\n",
    "    max_depth=6,\n",
    "    min_samples_leaf=9,\n",
    "    max_features=0.1,\n",
    "    loss='huber',\n",
    "    random_state=0\n",
    ")\n",
    "model.fit(X_train, y_train)\n",
    "\n",
    "# save trained model for other uses\n",
    "joblib.dump(model,'trained_trade_data.pkl')"
   ]
  },
  {
   "cell_type": "code",
   "execution_count": 50,
   "metadata": {},
   "outputs": [
    {
     "name": "stdout",
     "output_type": "stream",
     "text": [
      "Training Set Mean Absolute Error: 0.5384\n"
     ]
    }
   ],
   "source": [
    "# find error rate on training data set\n",
    "mse = mean_absolute_error(y_train, model.predict(X_train))\n",
    "print(\"Training Set Mean Absolute Error: %.4f\" % mse)"
   ]
  },
  {
   "cell_type": "code",
   "execution_count": 51,
   "metadata": {},
   "outputs": [
    {
     "name": "stdout",
     "output_type": "stream",
     "text": [
      "TEST Set Mean Absolute Error: 4.3389\n"
     ]
    }
   ],
   "source": [
    "# find error rate on TEST data set\n",
    "mse = mean_absolute_error(y_test,model.predict(X_test))\n",
    "print(\"TEST Set Mean Absolute Error: %.4f\" % mse)"
   ]
  }
 ],
 "metadata": {
  "kernelspec": {
   "display_name": "Python 3",
   "language": "python",
   "name": "python3"
  },
  "language_info": {
   "codemirror_mode": {
    "name": "ipython",
    "version": 3
   },
   "file_extension": ".py",
   "mimetype": "text/x-python",
   "name": "python",
   "nbconvert_exporter": "python",
   "pygments_lexer": "ipython3",
   "version": "3.6.6"
  }
 },
 "nbformat": 4,
 "nbformat_minor": 2
}
